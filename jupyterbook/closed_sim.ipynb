{
 "cells": [
  {
   "cell_type": "code",
   "execution_count": 1,
   "metadata": {},
   "outputs": [],
   "source": [
    "from clustersim.core.simulator import Simulator\n",
    "\n",
    "from clustersim.core.workload import Task, Job, UnifiedRandomWorkload\n",
    "from clustersim.core.resources import Cpu, GpuSet, Mem, Node\n",
    "import clustersim.core.scheduler"
   ]
  },
  {
   "cell_type": "code",
   "execution_count": 88,
   "metadata": {
    "scrolled": true
   },
   "outputs": [
    {
     "name": "stdout",
     "output_type": "stream",
     "text": [
      "Start generating work\n",
      "Start generating work\n",
      "Start generating work\n",
      "Start generating work\n"
     ]
    }
   ],
   "source": [
    "sim = Simulator()\n",
    "\n",
    "\n",
    "sim.add_node({'gpus': GpuSet([1, 1, 1, 1])})\n",
    "dispatcher = sim.add_dispatcher('random')\n",
    "\n",
    "for _ in range(4):\n",
    "    dispatcher.add_workload('closed_random',\n",
    "                            income_range=(0, 0), tasktime_range=(10, 100),\n",
    "                            resources={'gpus': [0.5, 0.5]})\n",
    "dispatcher.add_scheduler('basic', sim.nodes, scheme='worst_fit')\n",
    "\n",
    "sim.run(until=2000)"
   ]
  },
  {
   "cell_type": "code",
   "execution_count": 89,
   "metadata": {},
   "outputs": [],
   "source": [
    "import pandas as pd\n",
    "import numpy as np\n",
    "\n",
    "def moving_avg(series, window):\n",
    "    if window <= 0:\n",
    "        return series\n",
    "    \n",
    "    if len(series) < window:\n",
    "        return pd.Series()\n",
    "    \n",
    "    new_series = pd.Series(dtype=np.float32)\n",
    "    for i in range(len(series)-window+1):\n",
    "        new_series.loc[i] = series.loc[i:i+window-1].mean()\n",
    "\n",
    "    return new_series"
   ]
  },
  {
   "cell_type": "code",
   "execution_count": 90,
   "metadata": {},
   "outputs": [
    {
     "data": {
      "text/html": [
       "<div>\n",
       "<style scoped>\n",
       "    .dataframe tbody tr th:only-of-type {\n",
       "        vertical-align: middle;\n",
       "    }\n",
       "\n",
       "    .dataframe tbody tr th {\n",
       "        vertical-align: top;\n",
       "    }\n",
       "\n",
       "    .dataframe thead th {\n",
       "        text-align: right;\n",
       "    }\n",
       "</style>\n",
       "<table border=\"1\" class=\"dataframe\">\n",
       "  <thead>\n",
       "    <tr style=\"text-align: right;\">\n",
       "      <th></th>\n",
       "      <th>gpu-util</th>\n",
       "      <th>task</th>\n",
       "    </tr>\n",
       "  </thead>\n",
       "  <tbody>\n",
       "    <tr>\n",
       "      <th>1.000000</th>\n",
       "      <td>0.25</td>\n",
       "      <td>1.0</td>\n",
       "    </tr>\n",
       "    <tr>\n",
       "      <th>3.000000</th>\n",
       "      <td>0.50</td>\n",
       "      <td>2.0</td>\n",
       "    </tr>\n",
       "    <tr>\n",
       "      <th>5.000000</th>\n",
       "      <td>0.75</td>\n",
       "      <td>3.0</td>\n",
       "    </tr>\n",
       "    <tr>\n",
       "      <th>7.000000</th>\n",
       "      <td>1.00</td>\n",
       "      <td>4.0</td>\n",
       "    </tr>\n",
       "    <tr>\n",
       "      <th>40.179230</th>\n",
       "      <td>0.75</td>\n",
       "      <td>3.0</td>\n",
       "    </tr>\n",
       "    <tr>\n",
       "      <th>43.000000</th>\n",
       "      <td>1.00</td>\n",
       "      <td>4.0</td>\n",
       "    </tr>\n",
       "    <tr>\n",
       "      <th>62.350820</th>\n",
       "      <td>0.75</td>\n",
       "      <td>3.0</td>\n",
       "    </tr>\n",
       "    <tr>\n",
       "      <th>65.000000</th>\n",
       "      <td>1.00</td>\n",
       "      <td>4.0</td>\n",
       "    </tr>\n",
       "    <tr>\n",
       "      <th>78.851698</th>\n",
       "      <td>0.75</td>\n",
       "      <td>3.0</td>\n",
       "    </tr>\n",
       "    <tr>\n",
       "      <th>82.000000</th>\n",
       "      <td>1.00</td>\n",
       "      <td>4.0</td>\n",
       "    </tr>\n",
       "  </tbody>\n",
       "</table>\n",
       "</div>"
      ],
      "text/plain": [
       "           gpu-util  task\n",
       "1.000000       0.25   1.0\n",
       "3.000000       0.50   2.0\n",
       "5.000000       0.75   3.0\n",
       "7.000000       1.00   4.0\n",
       "40.179230      0.75   3.0\n",
       "43.000000      1.00   4.0\n",
       "62.350820      0.75   3.0\n",
       "65.000000      1.00   4.0\n",
       "78.851698      0.75   3.0\n",
       "82.000000      1.00   4.0"
      ]
     },
     "metadata": {},
     "output_type": "display_data"
    }
   ],
   "source": [
    "node_stats = sim.nodes[0].records\n",
    "display(node_stats.loc[:, ('gpu-util', 'task')].head(10))\n"
   ]
  },
  {
   "cell_type": "code",
   "execution_count": 91,
   "metadata": {},
   "outputs": [
    {
     "data": {
      "text/html": [
       "<div>\n",
       "<style scoped>\n",
       "    .dataframe tbody tr th:only-of-type {\n",
       "        vertical-align: middle;\n",
       "    }\n",
       "\n",
       "    .dataframe tbody tr th {\n",
       "        vertical-align: top;\n",
       "    }\n",
       "\n",
       "    .dataframe thead th {\n",
       "        text-align: right;\n",
       "    }\n",
       "</style>\n",
       "<table border=\"1\" class=\"dataframe\">\n",
       "  <thead>\n",
       "    <tr style=\"text-align: right;\">\n",
       "      <th></th>\n",
       "      <th>gpu-util</th>\n",
       "      <th>task</th>\n",
       "    </tr>\n",
       "  </thead>\n",
       "  <tbody>\n",
       "    <tr>\n",
       "      <th>0</th>\n",
       "      <td>NaN</td>\n",
       "      <td>NaN</td>\n",
       "    </tr>\n",
       "    <tr>\n",
       "      <th>1</th>\n",
       "      <td>0.25</td>\n",
       "      <td>1.0</td>\n",
       "    </tr>\n",
       "    <tr>\n",
       "      <th>2</th>\n",
       "      <td>0.25</td>\n",
       "      <td>1.0</td>\n",
       "    </tr>\n",
       "    <tr>\n",
       "      <th>3</th>\n",
       "      <td>0.50</td>\n",
       "      <td>2.0</td>\n",
       "    </tr>\n",
       "    <tr>\n",
       "      <th>4</th>\n",
       "      <td>0.50</td>\n",
       "      <td>2.0</td>\n",
       "    </tr>\n",
       "  </tbody>\n",
       "</table>\n",
       "</div>"
      ],
      "text/plain": [
       "   gpu-util  task\n",
       "0       NaN   NaN\n",
       "1      0.25   1.0\n",
       "2      0.25   1.0\n",
       "3      0.50   2.0\n",
       "4      0.50   2.0"
      ]
     },
     "metadata": {},
     "output_type": "display_data"
    },
    {
     "data": {
      "text/plain": [
       "<AxesSubplot:title={'center':'gpu average util: 0.94'}>"
      ]
     },
     "execution_count": 91,
     "metadata": {},
     "output_type": "execute_result"
    },
    {
     "data": {
      "image/png": "[encoded data removed]",
      "text/plain": [
       "<Figure size 432x288 with 1 Axes>"
      ]
     },
     "metadata": {
      "needs_background": "light"
     },
     "output_type": "display_data"
    }
   ],
   "source": [
    "from matplotlib import pyplot as plt\n",
    "\n",
    "node_ts = node_stats.loc[:,('gpu-util', 'task')] \\\n",
    "    .reindex(range(0, int(node_stats.index[-1])), method='pad')\n",
    "\n",
    "display(node_ts.head())\n",
    "\n",
    "mean = node_ts.mean(axis='index')\n",
    "node_ts['gpu-util'].plot(title='gpu average util: %.2f' % mean['gpu-util'])"
   ]
  },
  {
   "cell_type": "code",
   "execution_count": 87,
   "metadata": {},
   "outputs": [
    {
     "data": {
      "text/plain": [
       "<AxesSubplot:title={'center':'gpu moving average'}>"
      ]
     },
     "execution_count": 87,
     "metadata": {},
     "output_type": "execute_result"
    },
    {
     "data": {
      "image/png": "[encoded data removed]",
      "text/plain": [
       "<Figure size 432x288 with 1 Axes>"
      ]
     },
     "metadata": {
      "needs_background": "light"
     },
     "output_type": "display_data"
    }
   ],
   "source": [
    "gpu_util_ma = moving_avg(node_ts['gpu-util'], 10)\n",
    "\n",
    "gpu_util_ma.plot(title='gpu moving average', ylim=[0,1])"
   ]
  },
  {
   "cell_type": "code",
   "execution_count": 4,
   "metadata": {},
   "outputs": [
    {
     "data": {
      "image/png": "[encoded data removed]",
      "text/plain": [
       "<Figure size 432x288 with 4 Axes>"
      ]
     },
     "metadata": {
      "needs_background": "light"
     },
     "output_type": "display_data"
    }
   ],
   "source": [
    "from matplotlib import pyplot as plt\n",
    "\n",
    "fig, sub = plt.subplots(2, 2)\n",
    "\n",
    "sub[0][0].hist(task_runtime, bins=range(\n",
    "    int(min(task_runtime)), int(max(task_runtime)), 2))\n",
    "sub[0][0].set_title('run time dist')\n",
    "\n",
    "sub[0][1].hist(task_waittime, range(\n",
    "    int(min(task_waittime)), int(max(task_waittime)), 2))\n",
    "sub[0][1].set_title('task wait time dist')\n",
    "\n",
    "sub[1][0].hist(task_total, range(\n",
    "    int(min(task_total)), int(max(task_total)), 2))\n",
    "sub[1][0].set_title('task total time dist')\n",
    "\n",
    "sub[1][1].plot(index, value)\n",
    "sub[1][1].set_title('gpu utilization')\n",
    "\n",
    "plt.show()"
   ]
  },
  {
   "cell_type": "code",
   "execution_count": 92,
   "metadata": {},
   "outputs": [
    {
     "name": "stdout",
     "output_type": "stream",
     "text": [
      "Start generating work\n",
      "Start generating work\n",
      "Start generating work\n",
      "Start generating work\n"
     ]
    }
   ],
   "source": [
    "sim = Simulator()\n",
    "\n",
    "\n",
    "sim.add_node({'gpus': GpuSet([1, 1, 1, 1])})\n",
    "dispatcher = sim.add_dispatcher('random')\n",
    "\n",
    "for _ in range(4):\n",
    "    dispatcher.add_workload('closed_random',\n",
    "                            income_range=(0, 0), tasktime_range=(10, 100),\n",
    "                            resources={'gpus': [0.5, 0.5]})\n",
    "dispatcher.add_scheduler('basic', sim.nodes, scheme='random')\n",
    "\n",
    "sim.run(until=2000)"
   ]
  },
  {
   "cell_type": "code",
   "execution_count": 93,
   "metadata": {},
   "outputs": [
    {
     "data": {
      "text/html": [
       "<div>\n",
       "<style scoped>\n",
       "    .dataframe tbody tr th:only-of-type {\n",
       "        vertical-align: middle;\n",
       "    }\n",
       "\n",
       "    .dataframe tbody tr th {\n",
       "        vertical-align: top;\n",
       "    }\n",
       "\n",
       "    .dataframe thead th {\n",
       "        text-align: right;\n",
       "    }\n",
       "</style>\n",
       "<table border=\"1\" class=\"dataframe\">\n",
       "  <thead>\n",
       "    <tr style=\"text-align: right;\">\n",
       "      <th></th>\n",
       "      <th>gpu-util</th>\n",
       "      <th>task</th>\n",
       "    </tr>\n",
       "  </thead>\n",
       "  <tbody>\n",
       "    <tr>\n",
       "      <th>0</th>\n",
       "      <td>NaN</td>\n",
       "      <td>NaN</td>\n",
       "    </tr>\n",
       "    <tr>\n",
       "      <th>1</th>\n",
       "      <td>0.25</td>\n",
       "      <td>1.0</td>\n",
       "    </tr>\n",
       "    <tr>\n",
       "      <th>2</th>\n",
       "      <td>0.25</td>\n",
       "      <td>1.0</td>\n",
       "    </tr>\n",
       "    <tr>\n",
       "      <th>3</th>\n",
       "      <td>0.50</td>\n",
       "      <td>2.0</td>\n",
       "    </tr>\n",
       "    <tr>\n",
       "      <th>4</th>\n",
       "      <td>0.50</td>\n",
       "      <td>2.0</td>\n",
       "    </tr>\n",
       "  </tbody>\n",
       "</table>\n",
       "</div>"
      ],
      "text/plain": [
       "   gpu-util  task\n",
       "0       NaN   NaN\n",
       "1      0.25   1.0\n",
       "2      0.25   1.0\n",
       "3      0.50   2.0\n",
       "4      0.50   2.0"
      ]
     },
     "metadata": {},
     "output_type": "display_data"
    },
    {
     "data": {
      "text/plain": [
       "<AxesSubplot:title={'center':'gpu average util: 0.91'}>"
      ]
     },
     "execution_count": 93,
     "metadata": {},
     "output_type": "execute_result"
    },
    {
     "data": {
      "image/png": "[encoded data removed]",
      "text/plain": [
       "<Figure size 432x288 with 1 Axes>"
      ]
     },
     "metadata": {
      "needs_background": "light"
     },
     "output_type": "display_data"
    }
   ],
   "source": [
    "node_stats = sim.nodes[0].records\n",
    "node_ts = node_stats.loc[:,('gpu-util', 'task')] \\\n",
    "    .reindex(range(0, int(node_stats.index[-1])), method='pad')\n",
    "\n",
    "display(node_ts.head())\n",
    "\n",
    "mean = node_ts.mean(axis='index')\n",
    "node_ts['gpu-util'].plot(title='gpu average util: %.2f' % mean['gpu-util'])"
   ]
  },
  {
   "cell_type": "code",
   "execution_count": 73,
   "metadata": {},
   "outputs": [],
   "source": [
    "gpu_util_moving_avg = moving_avg(node_ts['gpu-util'], 20)"
   ]
  },
  {
   "cell_type": "code",
   "execution_count": 76,
   "metadata": {},
   "outputs": [
    {
     "name": "stdout",
     "output_type": "stream",
     "text": [
      "0       0.757895\n",
      "1       0.765000\n",
      "2       0.798750\n",
      "3       0.832500\n",
      "4       0.855000\n",
      "          ...   \n",
      "1972    0.832500\n",
      "1973    0.821250\n",
      "1974    0.810000\n",
      "1975    0.798750\n",
      "1976    0.787500\n",
      "Length: 1977, dtype: float64\n"
     ]
    },
    {
     "data": {
      "text/plain": [
       "<AxesSubplot:title={'center':'moving average'}>"
      ]
     },
     "execution_count": 76,
     "metadata": {},
     "output_type": "execute_result"
    },
    {
     "data": {
      "image/png": "[encoded data removed]",
      "text/plain": [
       "<Figure size 432x288 with 1 Axes>"
      ]
     },
     "metadata": {
      "needs_background": "light"
     },
     "output_type": "display_data"
    }
   ],
   "source": [
    "print(gpu_util_moving_avg)\n",
    "gpu_util_moving_avg.plot(title='moving average', ylim=[0,1])"
   ]
  }
 ],
 "metadata": {
  "kernelspec": {
   "display_name": "Python 3",
   "language": "python",
   "name": "python3"
  },
  "language_info": {
   "codemirror_mode": {
    "name": "ipython",
    "version": 3
   },
   "file_extension": ".py",
   "mimetype": "text/x-python",
   "name": "python",
   "nbconvert_exporter": "python",
   "pygments_lexer": "ipython3",
   "version": "3.8.6"
  }
 },
 "nbformat": 4,
 "nbformat_minor": 4
}
